{
 "cells": [
  {
   "cell_type": "code",
   "execution_count": 22,
   "metadata": {},
   "outputs": [],
   "source": [
    "from __future__ import print_function\n",
    "\n",
    "import argparse\n",
    "import requests\n",
    "import pyquery"
   ]
  },
  {
   "cell_type": "code",
   "execution_count": 23,
   "metadata": {},
   "outputs": [],
   "source": [
    "def login(session, email, password):\n",
    "    \"\"\"\n",
    "    获取cookie\n",
    "    \"\"\"\n",
    "    response = session.get('https://facebook.com')\n",
    "\n",
    "    # 尝试登陆\n",
    "    response = session.post('https://facebook.com/login.php', data={\n",
    "        'email': email,\n",
    "        'pass': password\n",
    "    }, allow_redirects=False)\n",
    "\n",
    "    if 'c_user' in response.cookies:\n",
    "        # 说明登陆成功\n",
    "        homepage_resp = session.get('https://facebook.com/home.php')\n",
    "\n",
    "        dom = pyquery.PyQuery(homepage_resp.text.encode('utf8'))\n",
    "        fb_dtsg = dom('input[name=\"fb_dtsg\"]').val()\n",
    "\n",
    "        return fb_dtsg, response.cookies['c_user'], response.cookies['xs']\n",
    "    else:\n",
    "        return False"
   ]
  },
  {
   "cell_type": "code",
   "execution_count": 24,
   "metadata": {},
   "outputs": [
    {
     "name": "stderr",
     "output_type": "stream",
     "text": [
      "usage: ipykernel_launcher.py [-h] email password\n",
      "ipykernel_launcher.py: error: the following arguments are required: password\n"
     ]
    },
    {
     "ename": "SystemExit",
     "evalue": "2",
     "output_type": "error",
     "traceback": [
      "An exception has occurred, use %tb to see the full traceback.\n",
      "\u001b[1;31mSystemExit\u001b[0m\u001b[1;31m:\u001b[0m 2\n"
     ]
    }
   ],
   "source": [
    "if __name__ == \"__main__\":\n",
    "\n",
    "    parser = argparse.ArgumentParser(description='Login to Facebook')\n",
    "    parser.add_argument('email', help='e7569876@yahoo.com.tw')\n",
    "    parser.add_argument('password', help='e75983461')\n",
    "\n",
    "    args = parser.parse_args()\n",
    "\n",
    "    session = requests.session()\n",
    "    session.headers.update({\n",
    "        'User-Agent': 'Mozilla/5.0 (Macintosh; Intel Mac OS X 10_14_3) AppleWebKit/537.36 (KHTML, like Gecko) Chrome/73.0.3683.86 Safari/537.36'\n",
    "    })\n",
    "\n",
    "    fb_dtsg, user_id, xs = login(session, args.email, args.password)\n",
    "\n",
    "    if user_id:\n",
    "        print('{0}:{1}:{2}'.format(fb_dtsg, user_id, xs))\n",
    "    else:\n",
    "        print('Login Failed')"
   ]
  },
  {
   "cell_type": "code",
   "execution_count": null,
   "metadata": {},
   "outputs": [],
   "source": []
  }
 ],
 "metadata": {
  "kernelspec": {
   "display_name": "Python 3",
   "language": "python",
   "name": "python3"
  },
  "language_info": {
   "codemirror_mode": {
    "name": "ipython",
    "version": 3
   },
   "file_extension": ".py",
   "mimetype": "text/x-python",
   "name": "python",
   "nbconvert_exporter": "python",
   "pygments_lexer": "ipython3",
   "version": "3.6.10"
  }
 },
 "nbformat": 4,
 "nbformat_minor": 4
}
