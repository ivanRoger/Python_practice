{
 "cells": [
  {
   "cell_type": "markdown",
   "metadata": {},
   "source": [
    "將JSON文字字串轉化為Python資料型別 原文網址：https://itw01.com/YP9Z9EX.html"
   ]
  },
  {
   "cell_type": "code",
   "execution_count": 12,
   "metadata": {},
   "outputs": [],
   "source": [
    "import json "
   ]
  },
  {
   "cell_type": "code",
   "execution_count": 7,
   "metadata": {},
   "outputs": [],
   "source": [
    "# JSON文字字串 \n",
    "str_list = '[\"a\",\"b\",\"c\",\"d\"]' \n",
    "str_dict = '{\"name\":\"小白\",\"age\":1000}'"
   ]
  },
  {
   "cell_type": "code",
   "execution_count": 8,
   "metadata": {},
   "outputs": [],
   "source": [
    "# json.loads將文字字串轉化為JSON物件，在Python裡就是Python物件了 \n",
    "data_list = json.loads(str_list) \n",
    "data_dict = json.loads(str_dict)"
   ]
  },
  {
   "cell_type": "code",
   "execution_count": 9,
   "metadata": {},
   "outputs": [
    {
     "name": "stdout",
     "output_type": "stream",
     "text": [
      "<class 'list'>\n",
      "<class 'dict'>\n",
      "['a', 'b', 'c', 'd']\n",
      "{'name': '小白', 'age': 1000}\n"
     ]
    }
   ],
   "source": [
    "print(type(data_list)) \n",
    "print(type(data_dict)) \n",
    "print(data_list) \n",
    "print(data_dict)"
   ]
  },
  {
   "cell_type": "markdown",
   "metadata": {},
   "source": [
    "將Python資料型別轉化為JSON文字字串      "
   ]
  },
  {
   "cell_type": "code",
   "execution_count": 10,
   "metadata": {},
   "outputs": [],
   "source": [
    "import json \n",
    "data_list = [1,2,3,4] \n",
    "data_dict = {'name':'小黑','age':1000}"
   ]
  },
  {
   "cell_type": "code",
   "execution_count": 11,
   "metadata": {},
   "outputs": [
    {
     "name": "stdout",
     "output_type": "stream",
     "text": [
      "[1, 2, 3, 4]\n",
      "{\"name\": \"\\u5c0f\\u9ed1\", \"age\": 1000}\n"
     ]
    }
   ],
   "source": [
    "print(json.dumps(data_list)) \n",
    "print(json.dumps(data_dict))"
   ]
  },
  {
   "cell_type": "markdown",
   "metadata": {},
   "source": [
    "dumps方法可以將Python資料型別轉化為JSON文字字串，但是可以看到當有中文的時候，轉換後中文字元都變成Unicode字元，要輸出中文需要設定dumps方法的引數 ensure_ascii=True 設定為 ensure_ascii=False"
   ]
  },
  {
   "cell_type": "code",
   "execution_count": 14,
   "metadata": {},
   "outputs": [
    {
     "name": "stdout",
     "output_type": "stream",
     "text": [
      "{\"name\": \"小黑\", \"age\": 1000}\n"
     ]
    }
   ],
   "source": [
    "print(json.dumps(data_dict,ensure_ascii=False))"
   ]
  },
  {
   "cell_type": "markdown",
   "metadata": {},
   "source": [
    "此外，如果需要將資料儲存為文字的時候，還需要指定檔案的編碼格式為 utf-8 ，否則開啟儲存的檔案，會有亂碼。\n",
    "比如將上面的 data_dict 資料(裏面有中文字元)儲存為data.json檔案，程式碼如下： "
   ]
  },
  {
   "cell_type": "code",
   "execution_count": 15,
   "metadata": {},
   "outputs": [],
   "source": [
    "with open('data.json','w',encoding='utf-8') as f: \n",
    "    f.write(json.dumps(data_dict,ensure_ascii=False)) "
   ]
  },
  {
   "cell_type": "markdown",
   "metadata": {},
   "source": [
    "如果要處理的是檔案而不是字串，可以使用 json.dump() 和 json.load() 來編碼和解碼JSON資料。"
   ]
  },
  {
   "cell_type": "code",
   "execution_count": 17,
   "metadata": {},
   "outputs": [],
   "source": [
    "# 寫入資料到檔案 \n",
    "data_list = [{'name':'小白'},{'name':'小黑'}] \n",
    "with open('data2.json','w',encoding='utf-8') as f: \n",
    "    json.dump(data_list,f,ensure_ascii=False)"
   ]
  },
  {
   "cell_type": "code",
   "execution_count": 19,
   "metadata": {},
   "outputs": [
    {
     "name": "stdout",
     "output_type": "stream",
     "text": [
      "[{'name': '小白'}, {'name': '小黑'}]\n"
     ]
    }
   ],
   "source": [
    "# 從檔案讀取資料 \n",
    "with open('data2.json','r',encoding='utf-8') as f: \n",
    "    data = json.load(f) \n",
    "    print(data) "
   ]
  },
  {
   "cell_type": "code",
   "execution_count": null,
   "metadata": {},
   "outputs": [],
   "source": []
  }
 ],
 "metadata": {
  "kernelspec": {
   "display_name": "Python 3",
   "language": "python",
   "name": "python3"
  },
  "language_info": {
   "codemirror_mode": {
    "name": "ipython",
    "version": 3
   },
   "file_extension": ".py",
   "mimetype": "text/x-python",
   "name": "python",
   "nbconvert_exporter": "python",
   "pygments_lexer": "ipython3",
   "version": "3.6.8"
  }
 },
 "nbformat": 4,
 "nbformat_minor": 2
}
